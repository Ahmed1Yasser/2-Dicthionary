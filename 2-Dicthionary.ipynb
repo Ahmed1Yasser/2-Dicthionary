{
 "cells": [
  {
   "cell_type": "code",
   "execution_count": 2,
   "id": "4cd0a2fd",
   "metadata": {},
   "outputs": [
    {
     "name": "stdout",
     "output_type": "stream",
     "text": [
      "Enter the word you want to searchfaat\n",
      "did you mean fat instead\n",
      "press y for yes or n for noy\n",
      "Who is too fat.\n",
      "A specialized animal tissue with a high oil content, used for long-term storage of energy.\n",
      "Carrying a larger-than-normal amount of fat or weight.\n",
      "The ester of glycerol and one, two, or three fatty acids.\n",
      "Made of fat.\n",
      "(Concerning a person) He who carries a lot of fat.\n"
     ]
    }
   ],
   "source": [
    "import json\n",
    "from difflib import get_close_matches\n",
    "\n",
    "data = json.load(open(\"data.json\"))\n",
    "\n",
    "def translate(word):\n",
    "    word = word.lower()\n",
    "    if word in data:\n",
    "        return data[word]\n",
    "    elif word.title() in data:\n",
    "        return data[word.title()]\n",
    "    elif word.upper() in data:\n",
    "        return data[word.upper()]\n",
    "    elif len(get_close_matches(word , data.keys())) > 0 :\n",
    "        print(\"did you mean %s instead\" %get_close_matches(word, data.keys())[0])\n",
    "        decide = input(\"press y for yes or n for no\")\n",
    "        if decide == \"y\":\n",
    "            return data[get_close_matches(word , data.keys())[0]]\n",
    "        elif decide == \"n\":\n",
    "            return(\" your paw steps on wrong keys \")\n",
    "        else:\n",
    "            return(\"You have entered wrong input please enter just y or n\")\n",
    "    else:\n",
    "        print(\"your paw steps on wrong keys\")\n",
    "\n",
    "\n",
    "\n",
    "word = input(\"Enter the word you want to search\")\n",
    "output = translate(word)\n",
    "if type(output) == list:\n",
    "    for item in output:\n",
    "        print(item)\n",
    "else:\n",
    "    print(output)"
   ]
  },
  {
   "cell_type": "code",
   "execution_count": null,
   "id": "250e28ca",
   "metadata": {},
   "outputs": [],
   "source": []
  }
 ],
 "metadata": {
  "kernelspec": {
   "display_name": "Python 3 (ipykernel)",
   "language": "python",
   "name": "python3"
  },
  "language_info": {
   "codemirror_mode": {
    "name": "ipython",
    "version": 3
   },
   "file_extension": ".py",
   "mimetype": "text/x-python",
   "name": "python",
   "nbconvert_exporter": "python",
   "pygments_lexer": "ipython3",
   "version": "3.9.12"
  }
 },
 "nbformat": 4,
 "nbformat_minor": 5
}
